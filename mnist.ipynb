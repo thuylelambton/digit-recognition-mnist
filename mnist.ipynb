{
  "cells": [
    {
      "cell_type": "code",
      "execution_count": 101,
      "metadata": {
        "id": "koOwrXk7-y00"
      },
      "outputs": [],
      "source": [
        "import tensorflow as tf\n",
        "import numpy as np\n",
        "\n",
        "def get_mnist_train_test_set():\n",
        "  # Load the MNIST dataset\n",
        "  mnist = tf.keras.datasets.mnist\n",
        "  (x_train, y_train), (x_test, y_test) = mnist.load_data()\n",
        "\n",
        "  # Normalize the data and expand dimensions\n",
        "  x_train=x_train.reshape(x_train.shape[0], x_train.shape[1], x_train.shape[2], 1)\n",
        "  x_train=x_train / 255.0\n",
        "  x_test = x_test.reshape(x_test.shape[0], x_test.shape[1], x_test.shape[2], 1)\n",
        "  x_test=x_test/255.0\n",
        "\n",
        "  y_train = tf.one_hot(y_train.astype(np.int32), depth=10)\n",
        "  y_test = tf.one_hot(y_test.astype(np.int32), depth=10)\n",
        "\n",
        "  return (x_train, y_train), (x_test, y_test)\n",
        "\n",
        "def build_cnn_model():\n",
        "  # Define the CNN model\n",
        "  model = tf.keras.models.Sequential([\n",
        "      tf.keras.layers.Conv2D(32, (5,5), padding='same', activation='relu', input_shape=(28,28,1)),\n",
        "      tf.keras.layers.Conv2D(32, (5,5), padding='same', activation='relu'),\n",
        "      tf.keras.layers.MaxPool2D(),\n",
        "      tf.keras.layers.Dropout(0.25),\n",
        "      tf.keras.layers.Conv2D(64, (3,3), padding='same', activation='relu'),\n",
        "      tf.keras.layers.Conv2D(64, (3,3), padding='same', activation='relu'),\n",
        "      tf.keras.layers.MaxPool2D(strides=(2,2)),\n",
        "      tf.keras.layers.Dropout(0.25),\n",
        "      tf.keras.layers.Flatten(),\n",
        "      tf.keras.layers.Dense(128, activation='relu'),\n",
        "      tf.keras.layers.Dropout(0.25),\n",
        "      tf.keras.layers.Dense(10, activation='softmax')\n",
        "  ])\n",
        "  model.compile(optimizer=tf.keras.optimizers.RMSprop(epsilon=1e-08), loss='categorical_crossentropy', metrics=['acc'])\n",
        "  return model"
      ]
    },
    {
      "cell_type": "code",
      "execution_count": 103,
      "metadata": {
        "id": "S3pBuAbH4WCy"
      },
      "outputs": [],
      "source": [
        "from PIL import Image, ImageOps\n",
        "import numpy as np\n",
        "import matplotlib.pyplot as plt\n",
        "from matplotlib import pyplot as plt\n",
        "import pathlib\n",
        "import math\n",
        "\n",
        "def load_model():\n",
        "  return tf.keras.models.load_model(\"mnist-cnn.hdf5\")\n",
        "\n",
        "def load_images():\n",
        "  image_dir = pathlib.Path('./digits-2')\n",
        "  image_paths = list(image_dir.glob(\"*.png\"))\n",
        "  images = []\n",
        "  for path in image_paths:\n",
        "    img = tf.keras.preprocessing.image.load_img(path, color_mode=\"grayscale\", target_size=(28, 28))\n",
        "    img = tf.keras.preprocessing.image.img_to_array(img)\n",
        "    img = img.reshape(28, 28, 1).astype('float32') / 255.0\n",
        "    images.append(img)\n",
        "  return np.array(images)\n",
        "\n",
        "def max_idx(arr):\n",
        "  cur_max = arr[0]\n",
        "  res = 0\n",
        "  for i, num in enumerate(arr):\n",
        "    if num > cur_max:\n",
        "      res = i\n",
        "      cur_max = num\n",
        "  return res\n",
        "\n",
        "\n",
        "def plot_predictions(images, predictions):\n",
        "  plt.close('all')\n",
        "  plt.figure(figsize=(12, 3 * len(images) / 5))\n",
        "  p = [max_idx(p) for p in predictions]\n",
        "  for idx, img in enumerate(images):\n",
        "    plt.subplot(math.ceil(len(images) / 5), 5, idx + 1)\n",
        "    plt.imshow(img, cmap='gray')\n",
        "    plt.title(f\"{p[idx]}\")\n",
        "  plt.tight_layout()"
      ]
    },
    {
      "cell_type": "code",
      "execution_count": 104,
      "metadata": {
        "colab": {
          "base_uri": "https://localhost:8080/"
        },
        "id": "uhtrcPQIZgbt",
        "outputId": "3c5b0a6d-f10d-407c-cb87-e04ad31cff82"
      },
      "outputs": [
        {
          "name": "stdout",
          "output_type": "stream",
          "text": [
            "Epoch 1/5\n",
            "1875/1875 [==============================] - 12s 6ms/step - loss: 0.1415 - acc: 0.9565\n",
            "Epoch 2/5\n",
            "1875/1875 [==============================] - 9s 5ms/step - loss: 0.0559 - acc: 0.9836\n",
            "Epoch 3/5\n",
            "1875/1875 [==============================] - 10s 5ms/step - loss: 0.0470 - acc: 0.9866\n",
            "Epoch 4/5\n",
            "1875/1875 [==============================] - 10s 5ms/step - loss: 0.0424 - acc: 0.9878\n",
            "Epoch 5/5\n",
            "1875/1875 [==============================] - 9s 5ms/step - loss: 0.0415 - acc: 0.9887\n"
          ]
        },
        {
          "data": {
            "text/plain": [
              "<keras.callbacks.History at 0x7fc538ce20a0>"
            ]
          },
          "execution_count": 104,
          "metadata": {},
          "output_type": "execute_result"
        }
      ],
      "source": [
        "(x_train, y_train), (x_test, y_test) = get_mnist_train_test_set()\n",
        "model = build_cnn_model()\n",
        "model.fit(x_train, y_train, epochs=5)"
      ]
    },
    {
      "cell_type": "code",
      "execution_count": 105,
      "metadata": {
        "colab": {
          "base_uri": "https://localhost:8080/"
        },
        "id": "GVmNKl6paKF_",
        "outputId": "ecb20f2c-797b-4b7b-870b-1c40fc14b4a6"
      },
      "outputs": [
        {
          "name": "stdout",
          "output_type": "stream",
          "text": [
            "313/313 [==============================] - 1s 3ms/step - loss: 0.0253 - acc: 0.9928\n",
            "Accuracy: 0.9928\n"
          ]
        }
      ],
      "source": [
        "test_loss, test_acc = model.evaluate(x_test, y_test)\n",
        "print(\"Accuracy: %.4f\" % test_acc)"
      ]
    },
    {
      "cell_type": "code",
      "execution_count": 106,
      "metadata": {
        "colab": {
          "base_uri": "https://localhost:8080/",
          "height": 546
        },
        "id": "s0Ab5KuzazmN",
        "outputId": "45a3292e-24ce-4b53-b5b9-53d242c6a687"
      },
      "outputs": [
        {
          "name": "stdout",
          "output_type": "stream",
          "text": [
            "1/1 [==============================] - 0s 81ms/step\n"
          ]
        },
        {
          "data": {
            "image/png": "[encoded data removed]",
            "text/plain": [
              "<Figure size 1200x600 with 10 Axes>"
            ]
          },
          "metadata": {},
          "output_type": "display_data"
        }
      ],
      "source": [
        "images = load_images()\n",
        "predictions = model.predict(images)\n",
        "plot_predictions(images, predictions)"
      ]
    }
  ],
  "metadata": {
    "accelerator": "GPU",
    "colab": {
      "provenance": []
    },
    "gpuClass": "standard",
    "kernelspec": {
      "display_name": "Python 3",
      "name": "python3"
    },
    "language_info": {
      "name": "python"
    }
  },
  "nbformat": 4,
  "nbformat_minor": 0
}
